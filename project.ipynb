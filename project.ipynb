{
  "cells": [
    {
      "cell_type": "code",
      "source": [
        "from google.colab import drive\n",
        "drive.mount('/content/drive')"
      ],
      "metadata": {
        "colab": {
          "base_uri": "https://localhost:8080/"
        },
        "id": "m3IR-BWn_ltd",
        "outputId": "12bbeb7c-d3ac-4c69-efc1-18b0d0bd9c35"
      },
      "execution_count": 1,
      "outputs": [
        {
          "output_type": "stream",
          "name": "stdout",
          "text": [
            "Mounted at /content/drive\n"
          ]
        }
      ]
    },
    {
      "cell_type": "markdown",
      "source": [
        "# Reading Libraries"
      ],
      "metadata": {
        "id": "7C4FEsSVkqdc"
      }
    },
    {
      "cell_type": "code",
      "execution_count": 2,
      "metadata": {
        "id": "OScPkMCJ_ISd"
      },
      "outputs": [],
      "source": [
        "import numpy as np\n",
        "import pandas as pd\n",
        "from sklearn.preprocessing import LabelEncoder\n",
        "from sklearn.preprocessing import MinMaxScaler\n",
        "from sklearn.model_selection import train_test_split\n",
        "from sklearn.metrics import precision_score, classification_report\n",
        "from imblearn.over_sampling import RandomOverSampler\n",
        "import keras\n",
        "from keras.models import Model\n",
        "from keras.layers import Input, Embedding, Flatten, Dot, Add, concatenate, Dense\n",
        "import seaborn as sns\n",
        "import matplotlib.pyplot as plt"
      ]
    },
    {
      "cell_type": "markdown",
      "source": [
        "# Loading the dataset"
      ],
      "metadata": {
        "id": "zhwL1bMNk2ml"
      }
    },
    {
      "cell_type": "code",
      "source": [
        "df= pd.read_csv('/content/drive/MyDrive/Quera/what_to_buy/data/amazon_train.csv')\n",
        "df"
      ],
      "metadata": {
        "colab": {
          "base_uri": "https://localhost:8080/",
          "height": 423
        },
        "id": "ryO8HAIKARmf",
        "outputId": "b96bb384-85b2-436c-c30c-41f36786ec09"
      },
      "execution_count": 3,
      "outputs": [
        {
          "output_type": "execute_result",
          "data": {
            "text/plain": [
              "                UserID   ProductID  Rating   Timestamp\n",
              "0       A3HICVLF4PFFMN  0594481813     5.0  2014-05-05\n",
              "1       A2QBZA4S1ROX9Q  0594481813     3.0  2013-05-25\n",
              "2        AT09WGFUM934H  0594481813     3.0  2013-08-31\n",
              "3        AGAKHE014LQFU  0594481813     3.0  2013-09-18\n",
              "4       A1S6B5QFWGVL5U  0594481813     4.0  2013-06-27\n",
              "...                ...         ...     ...         ...\n",
              "909196    ADLVFFE4VBT8  B00L3YHF6O     5.0  2014-07-05\n",
              "909197   AWPODHOB4GFWL  B00L3YHF6O     5.0  2014-07-10\n",
              "909198  A3A4ZAIBQWKOZS  B00L3YHF6O     5.0  2014-07-07\n",
              "909199  A34BZM6S9L7QI4  B00LGQ6HL8     5.0  2014-07-17\n",
              "909200  A1G650TTTHEAL5  B00LGQ6HL8     5.0  2014-07-15\n",
              "\n",
              "[909201 rows x 4 columns]"
            ],
            "text/html": [
              "\n",
              "  <div id=\"df-01b55371-0d14-46ca-94d0-69cc3d11ec36\" class=\"colab-df-container\">\n",
              "    <div>\n",
              "<style scoped>\n",
              "    .dataframe tbody tr th:only-of-type {\n",
              "        vertical-align: middle;\n",
              "    }\n",
              "\n",
              "    .dataframe tbody tr th {\n",
              "        vertical-align: top;\n",
              "    }\n",
              "\n",
              "    .dataframe thead th {\n",
              "        text-align: right;\n",
              "    }\n",
              "</style>\n",
              "<table border=\"1\" class=\"dataframe\">\n",
              "  <thead>\n",
              "    <tr style=\"text-align: right;\">\n",
              "      <th></th>\n",
              "      <th>UserID</th>\n",
              "      <th>ProductID</th>\n",
              "      <th>Rating</th>\n",
              "      <th>Timestamp</th>\n",
              "    </tr>\n",
              "  </thead>\n",
              "  <tbody>\n",
              "    <tr>\n",
              "      <th>0</th>\n",
              "      <td>A3HICVLF4PFFMN</td>\n",
              "      <td>0594481813</td>\n",
              "      <td>5.0</td>\n",
              "      <td>2014-05-05</td>\n",
              "    </tr>\n",
              "    <tr>\n",
              "      <th>1</th>\n",
              "      <td>A2QBZA4S1ROX9Q</td>\n",
              "      <td>0594481813</td>\n",
              "      <td>3.0</td>\n",
              "      <td>2013-05-25</td>\n",
              "    </tr>\n",
              "    <tr>\n",
              "      <th>2</th>\n",
              "      <td>AT09WGFUM934H</td>\n",
              "      <td>0594481813</td>\n",
              "      <td>3.0</td>\n",
              "      <td>2013-08-31</td>\n",
              "    </tr>\n",
              "    <tr>\n",
              "      <th>3</th>\n",
              "      <td>AGAKHE014LQFU</td>\n",
              "      <td>0594481813</td>\n",
              "      <td>3.0</td>\n",
              "      <td>2013-09-18</td>\n",
              "    </tr>\n",
              "    <tr>\n",
              "      <th>4</th>\n",
              "      <td>A1S6B5QFWGVL5U</td>\n",
              "      <td>0594481813</td>\n",
              "      <td>4.0</td>\n",
              "      <td>2013-06-27</td>\n",
              "    </tr>\n",
              "    <tr>\n",
              "      <th>...</th>\n",
              "      <td>...</td>\n",
              "      <td>...</td>\n",
              "      <td>...</td>\n",
              "      <td>...</td>\n",
              "    </tr>\n",
              "    <tr>\n",
              "      <th>909196</th>\n",
              "      <td>ADLVFFE4VBT8</td>\n",
              "      <td>B00L3YHF6O</td>\n",
              "      <td>5.0</td>\n",
              "      <td>2014-07-05</td>\n",
              "    </tr>\n",
              "    <tr>\n",
              "      <th>909197</th>\n",
              "      <td>AWPODHOB4GFWL</td>\n",
              "      <td>B00L3YHF6O</td>\n",
              "      <td>5.0</td>\n",
              "      <td>2014-07-10</td>\n",
              "    </tr>\n",
              "    <tr>\n",
              "      <th>909198</th>\n",
              "      <td>A3A4ZAIBQWKOZS</td>\n",
              "      <td>B00L3YHF6O</td>\n",
              "      <td>5.0</td>\n",
              "      <td>2014-07-07</td>\n",
              "    </tr>\n",
              "    <tr>\n",
              "      <th>909199</th>\n",
              "      <td>A34BZM6S9L7QI4</td>\n",
              "      <td>B00LGQ6HL8</td>\n",
              "      <td>5.0</td>\n",
              "      <td>2014-07-17</td>\n",
              "    </tr>\n",
              "    <tr>\n",
              "      <th>909200</th>\n",
              "      <td>A1G650TTTHEAL5</td>\n",
              "      <td>B00LGQ6HL8</td>\n",
              "      <td>5.0</td>\n",
              "      <td>2014-07-15</td>\n",
              "    </tr>\n",
              "  </tbody>\n",
              "</table>\n",
              "<p>909201 rows × 4 columns</p>\n",
              "</div>\n",
              "    <div class=\"colab-df-buttons\">\n",
              "\n",
              "  <div class=\"colab-df-container\">\n",
              "    <button class=\"colab-df-convert\" onclick=\"convertToInteractive('df-01b55371-0d14-46ca-94d0-69cc3d11ec36')\"\n",
              "            title=\"Convert this dataframe to an interactive table.\"\n",
              "            style=\"display:none;\">\n",
              "\n",
              "  <svg xmlns=\"http://www.w3.org/2000/svg\" height=\"24px\" viewBox=\"0 -960 960 960\">\n",
              "    <path d=\"M120-120v-720h720v720H120Zm60-500h600v-160H180v160Zm220 220h160v-160H400v160Zm0 220h160v-160H400v160ZM180-400h160v-160H180v160Zm440 0h160v-160H620v160ZM180-180h160v-160H180v160Zm440 0h160v-160H620v160Z\"/>\n",
              "  </svg>\n",
              "    </button>\n",
              "\n",
              "  <style>\n",
              "    .colab-df-container {\n",
              "      display:flex;\n",
              "      gap: 12px;\n",
              "    }\n",
              "\n",
              "    .colab-df-convert {\n",
              "      background-color: #E8F0FE;\n",
              "      border: none;\n",
              "      border-radius: 50%;\n",
              "      cursor: pointer;\n",
              "      display: none;\n",
              "      fill: #1967D2;\n",
              "      height: 32px;\n",
              "      padding: 0 0 0 0;\n",
              "      width: 32px;\n",
              "    }\n",
              "\n",
              "    .colab-df-convert:hover {\n",
              "      background-color: #E2EBFA;\n",
              "      box-shadow: 0px 1px 2px rgba(60, 64, 67, 0.3), 0px 1px 3px 1px rgba(60, 64, 67, 0.15);\n",
              "      fill: #174EA6;\n",
              "    }\n",
              "\n",
              "    .colab-df-buttons div {\n",
              "      margin-bottom: 4px;\n",
              "    }\n",
              "\n",
              "    [theme=dark] .colab-df-convert {\n",
              "      background-color: #3B4455;\n",
              "      fill: #D2E3FC;\n",
              "    }\n",
              "\n",
              "    [theme=dark] .colab-df-convert:hover {\n",
              "      background-color: #434B5C;\n",
              "      box-shadow: 0px 1px 3px 1px rgba(0, 0, 0, 0.15);\n",
              "      filter: drop-shadow(0px 1px 2px rgba(0, 0, 0, 0.3));\n",
              "      fill: #FFFFFF;\n",
              "    }\n",
              "  </style>\n",
              "\n",
              "    <script>\n",
              "      const buttonEl =\n",
              "        document.querySelector('#df-01b55371-0d14-46ca-94d0-69cc3d11ec36 button.colab-df-convert');\n",
              "      buttonEl.style.display =\n",
              "        google.colab.kernel.accessAllowed ? 'block' : 'none';\n",
              "\n",
              "      async function convertToInteractive(key) {\n",
              "        const element = document.querySelector('#df-01b55371-0d14-46ca-94d0-69cc3d11ec36');\n",
              "        const dataTable =\n",
              "          await google.colab.kernel.invokeFunction('convertToInteractive',\n",
              "                                                    [key], {});\n",
              "        if (!dataTable) return;\n",
              "\n",
              "        const docLinkHtml = 'Like what you see? Visit the ' +\n",
              "          '<a target=\"_blank\" href=https://colab.research.google.com/notebooks/data_table.ipynb>data table notebook</a>'\n",
              "          + ' to learn more about interactive tables.';\n",
              "        element.innerHTML = '';\n",
              "        dataTable['output_type'] = 'display_data';\n",
              "        await google.colab.output.renderOutput(dataTable, element);\n",
              "        const docLink = document.createElement('div');\n",
              "        docLink.innerHTML = docLinkHtml;\n",
              "        element.appendChild(docLink);\n",
              "      }\n",
              "    </script>\n",
              "  </div>\n",
              "\n",
              "\n",
              "<div id=\"df-f06435bf-f40e-43e9-8498-df476a885167\">\n",
              "  <button class=\"colab-df-quickchart\" onclick=\"quickchart('df-f06435bf-f40e-43e9-8498-df476a885167')\"\n",
              "            title=\"Suggest charts\"\n",
              "            style=\"display:none;\">\n",
              "\n",
              "<svg xmlns=\"http://www.w3.org/2000/svg\" height=\"24px\"viewBox=\"0 0 24 24\"\n",
              "     width=\"24px\">\n",
              "    <g>\n",
              "        <path d=\"M19 3H5c-1.1 0-2 .9-2 2v14c0 1.1.9 2 2 2h14c1.1 0 2-.9 2-2V5c0-1.1-.9-2-2-2zM9 17H7v-7h2v7zm4 0h-2V7h2v10zm4 0h-2v-4h2v4z\"/>\n",
              "    </g>\n",
              "</svg>\n",
              "  </button>\n",
              "\n",
              "<style>\n",
              "  .colab-df-quickchart {\n",
              "      --bg-color: #E8F0FE;\n",
              "      --fill-color: #1967D2;\n",
              "      --hover-bg-color: #E2EBFA;\n",
              "      --hover-fill-color: #174EA6;\n",
              "      --disabled-fill-color: #AAA;\n",
              "      --disabled-bg-color: #DDD;\n",
              "  }\n",
              "\n",
              "  [theme=dark] .colab-df-quickchart {\n",
              "      --bg-color: #3B4455;\n",
              "      --fill-color: #D2E3FC;\n",
              "      --hover-bg-color: #434B5C;\n",
              "      --hover-fill-color: #FFFFFF;\n",
              "      --disabled-bg-color: #3B4455;\n",
              "      --disabled-fill-color: #666;\n",
              "  }\n",
              "\n",
              "  .colab-df-quickchart {\n",
              "    background-color: var(--bg-color);\n",
              "    border: none;\n",
              "    border-radius: 50%;\n",
              "    cursor: pointer;\n",
              "    display: none;\n",
              "    fill: var(--fill-color);\n",
              "    height: 32px;\n",
              "    padding: 0;\n",
              "    width: 32px;\n",
              "  }\n",
              "\n",
              "  .colab-df-quickchart:hover {\n",
              "    background-color: var(--hover-bg-color);\n",
              "    box-shadow: 0 1px 2px rgba(60, 64, 67, 0.3), 0 1px 3px 1px rgba(60, 64, 67, 0.15);\n",
              "    fill: var(--button-hover-fill-color);\n",
              "  }\n",
              "\n",
              "  .colab-df-quickchart-complete:disabled,\n",
              "  .colab-df-quickchart-complete:disabled:hover {\n",
              "    background-color: var(--disabled-bg-color);\n",
              "    fill: var(--disabled-fill-color);\n",
              "    box-shadow: none;\n",
              "  }\n",
              "\n",
              "  .colab-df-spinner {\n",
              "    border: 2px solid var(--fill-color);\n",
              "    border-color: transparent;\n",
              "    border-bottom-color: var(--fill-color);\n",
              "    animation:\n",
              "      spin 1s steps(1) infinite;\n",
              "  }\n",
              "\n",
              "  @keyframes spin {\n",
              "    0% {\n",
              "      border-color: transparent;\n",
              "      border-bottom-color: var(--fill-color);\n",
              "      border-left-color: var(--fill-color);\n",
              "    }\n",
              "    20% {\n",
              "      border-color: transparent;\n",
              "      border-left-color: var(--fill-color);\n",
              "      border-top-color: var(--fill-color);\n",
              "    }\n",
              "    30% {\n",
              "      border-color: transparent;\n",
              "      border-left-color: var(--fill-color);\n",
              "      border-top-color: var(--fill-color);\n",
              "      border-right-color: var(--fill-color);\n",
              "    }\n",
              "    40% {\n",
              "      border-color: transparent;\n",
              "      border-right-color: var(--fill-color);\n",
              "      border-top-color: var(--fill-color);\n",
              "    }\n",
              "    60% {\n",
              "      border-color: transparent;\n",
              "      border-right-color: var(--fill-color);\n",
              "    }\n",
              "    80% {\n",
              "      border-color: transparent;\n",
              "      border-right-color: var(--fill-color);\n",
              "      border-bottom-color: var(--fill-color);\n",
              "    }\n",
              "    90% {\n",
              "      border-color: transparent;\n",
              "      border-bottom-color: var(--fill-color);\n",
              "    }\n",
              "  }\n",
              "</style>\n",
              "\n",
              "  <script>\n",
              "    async function quickchart(key) {\n",
              "      const quickchartButtonEl =\n",
              "        document.querySelector('#' + key + ' button');\n",
              "      quickchartButtonEl.disabled = true;  // To prevent multiple clicks.\n",
              "      quickchartButtonEl.classList.add('colab-df-spinner');\n",
              "      try {\n",
              "        const charts = await google.colab.kernel.invokeFunction(\n",
              "            'suggestCharts', [key], {});\n",
              "      } catch (error) {\n",
              "        console.error('Error during call to suggestCharts:', error);\n",
              "      }\n",
              "      quickchartButtonEl.classList.remove('colab-df-spinner');\n",
              "      quickchartButtonEl.classList.add('colab-df-quickchart-complete');\n",
              "    }\n",
              "    (() => {\n",
              "      let quickchartButtonEl =\n",
              "        document.querySelector('#df-f06435bf-f40e-43e9-8498-df476a885167 button');\n",
              "      quickchartButtonEl.style.display =\n",
              "        google.colab.kernel.accessAllowed ? 'block' : 'none';\n",
              "    })();\n",
              "  </script>\n",
              "</div>\n",
              "    </div>\n",
              "  </div>\n"
            ],
            "application/vnd.google.colaboratory.intrinsic+json": {
              "type": "dataframe",
              "variable_name": "df"
            }
          },
          "metadata": {},
          "execution_count": 3
        }
      ]
    },
    {
      "cell_type": "markdown",
      "source": [
        "# Preprocessing"
      ],
      "metadata": {
        "id": "DtXx8OaKi5qV"
      }
    },
    {
      "cell_type": "code",
      "execution_count": 4,
      "metadata": {
        "id": "NoRc6e2o1bHB"
      },
      "outputs": [],
      "source": [
        "# Encoding UserID and ProductID columns\n",
        "le_user = LabelEncoder()\n",
        "df['UserEnc'] = le_user.fit_transform(df['UserID'].values)\n",
        "\n",
        "le_product = LabelEncoder()\n",
        "df['ProductEnc'] = le_product.fit_transform(df['ProductID'].values)"
      ]
    },
    {
      "cell_type": "code",
      "execution_count": 5,
      "metadata": {
        "id": "8WAJmLCc1hP5"
      },
      "outputs": [],
      "source": [
        "# Scaling the Rating column\n",
        "sc= MinMaxScaler()\n",
        "df[['Rating']]= sc.fit_transform(df[['Rating']])"
      ]
    },
    {
      "cell_type": "code",
      "source": [
        "df['Rating_Class'] = (df['Rating'] >= 0.5).astype(int)"
      ],
      "metadata": {
        "id": "nK18LJ9wBPb8"
      },
      "execution_count": 6,
      "outputs": []
    },
    {
      "cell_type": "code",
      "source": [
        "X = df[['UserEnc', 'ProductEnc']]\n",
        "y = df['Rating_Class']"
      ],
      "metadata": {
        "id": "BUKs2Cl1KRjN"
      },
      "execution_count": 7,
      "outputs": []
    },
    {
      "cell_type": "code",
      "source": [
        "sns.countplot(x=y)\n",
        "plt.title('Before data balancing')\n",
        "plt.show()"
      ],
      "metadata": {
        "colab": {
          "base_uri": "https://localhost:8080/",
          "height": 472
        },
        "id": "Hz-lgVJnKTRF",
        "outputId": "8a08d3a9-675d-4471-d3a4-76607f25fc56"
      },
      "execution_count": 8,
      "outputs": [
        {
          "output_type": "display_data",
          "data": {
            "text/plain": [
              "<Figure size 640x480 with 1 Axes>"
            ],
            "image/png": "[encoded data removed]"
          },
          "metadata": {}
        }
      ]
    },
    {
      "cell_type": "code",
      "source": [
        "ros = RandomOverSampler(random_state=42)\n",
        "X_resampled, y_resampled = ros.fit_resample(X, y)\n",
        "\n",
        "sns.countplot(x=y_resampled)\n",
        "plt.title('Resampled Distribution of Ratings Classes')\n",
        "plt.show()"
      ],
      "metadata": {
        "colab": {
          "base_uri": "https://localhost:8080/",
          "height": 472
        },
        "id": "odYEQ4f6Avri",
        "outputId": "cea2a446-c207-4849-cd0a-f2fa5a206429"
      },
      "execution_count": 9,
      "outputs": [
        {
          "output_type": "display_data",
          "data": {
            "text/plain": [
              "<Figure size 640x480 with 1 Axes>"
            ],
            "image/png": "[encoded data removed]"
          },
          "metadata": {}
        }
      ]
    },
    {
      "cell_type": "code",
      "source": [
        "user_ids_resampled = X_resampled['UserEnc'].values\n",
        "item_ids_resampled = X_resampled['ProductEnc'].values\n",
        "ratings = df['Rating'].values\n",
        "\n",
        "num_users = df['UserEnc'].nunique()\n",
        "num_items = df['ProductEnc'].nunique()\n",
        "\n",
        "user_train, user_test, item_train, item_test, y_train, y_test = train_test_split(\n",
        "    user_ids_resampled, item_ids_resampled, y_resampled, test_size=0.2, random_state=42\n",
        ")\n",
        "\n",
        "y_train = y_train.astype(np.float32)\n",
        "y_test = y_test.astype(np.float32)"
      ],
      "metadata": {
        "id": "ayKKOc-u4h7a"
      },
      "execution_count": null,
      "outputs": []
    },
    {
      "cell_type": "markdown",
      "source": [
        "# Modeling"
      ],
      "metadata": {
        "id": "wEoR806KjMZV"
      }
    },
    {
      "cell_type": "code",
      "execution_count": null,
      "metadata": {
        "id": "mqa6gyA21jvw"
      },
      "outputs": [],
      "source": [
        "user_input = Input(shape=(1,), name='user_input')\n",
        "item_input = Input(shape=(1,), name='item_input')\n",
        "\n",
        "user_embedding = Embedding(input_dim=num_users, output_dim=8, name='user_embedding')(user_input)\n",
        "item_embedding = Embedding(input_dim=num_items, output_dim=8, name='item_embedding')(item_input)\n",
        "\n",
        "user_vec = Flatten()(user_embedding)\n",
        "item_vec = Flatten()(item_embedding)\n",
        "\n",
        "user_bias = Embedding(input_dim=num_users, output_dim=1, name='user_bias')(user_input)\n",
        "item_bias = Embedding(input_dim=num_items, output_dim=1, name='item_bias')(item_input)\n",
        "\n",
        "score = Dot(axes=1)([user_vec, item_vec])\n",
        "score = Add()([score, Flatten()(user_bias), Flatten()(item_bias)])\n",
        "output = Dense(1, activation='sigmoid')(score)"
      ]
    },
    {
      "cell_type": "code",
      "source": [
        "model = Model(inputs=[user_input, item_input], outputs=output)\n",
        "model.compile(optimizer='adam', loss='binary_crossentropy', metrics=['accuracy'])"
      ],
      "metadata": {
        "id": "SHdNtQ_ukB-t"
      },
      "execution_count": null,
      "outputs": []
    },
    {
      "cell_type": "code",
      "execution_count": null,
      "metadata": {
        "id": "-ueZ6QGP_ISh",
        "colab": {
          "base_uri": "https://localhost:8080/"
        },
        "outputId": "5232172b-750a-4bd2-d995-a6f669c4b40f"
      },
      "outputs": [
        {
          "output_type": "stream",
          "name": "stdout",
          "text": [
            "Epoch 1/10\n",
            "\u001b[1m32583/32583\u001b[0m \u001b[32m━━━━━━━━━━━━━━━━━━━━\u001b[0m\u001b[37m\u001b[0m \u001b[1m450s\u001b[0m 14ms/step - accuracy: 0.7080 - loss: 0.5480 - val_accuracy: 0.8968 - val_loss: 0.2621\n",
            "Epoch 2/10\n",
            "\u001b[1m32583/32583\u001b[0m \u001b[32m━━━━━━━━━━━━━━━━━━━━\u001b[0m\u001b[37m\u001b[0m \u001b[1m393s\u001b[0m 12ms/step - accuracy: 0.9498 - loss: 0.1384 - val_accuracy: 0.9326 - val_loss: 0.1938\n",
            "Epoch 3/10\n",
            "\u001b[1m32583/32583\u001b[0m \u001b[32m━━━━━━━━━━━━━━━━━━━━\u001b[0m\u001b[37m\u001b[0m \u001b[1m373s\u001b[0m 11ms/step - accuracy: 0.9756 - loss: 0.0698 - val_accuracy: 0.9423 - val_loss: 0.1761\n",
            "Epoch 4/10\n",
            "\u001b[1m32583/32583\u001b[0m \u001b[32m━━━━━━━━━━━━━━━━━━━━\u001b[0m\u001b[37m\u001b[0m \u001b[1m403s\u001b[0m 12ms/step - accuracy: 0.9835 - loss: 0.0485 - val_accuracy: 0.9471 - val_loss: 0.1683\n",
            "Epoch 5/10\n",
            "\u001b[1m32583/32583\u001b[0m \u001b[32m━━━━━━━━━━━━━━━━━━━━\u001b[0m\u001b[37m\u001b[0m \u001b[1m415s\u001b[0m 13ms/step - accuracy: 0.9869 - loss: 0.0385 - val_accuracy: 0.9497 - val_loss: 0.1639\n",
            "Epoch 6/10\n",
            "\u001b[1m32583/32583\u001b[0m \u001b[32m━━━━━━━━━━━━━━━━━━━━\u001b[0m\u001b[37m\u001b[0m \u001b[1m378s\u001b[0m 12ms/step - accuracy: 0.9889 - loss: 0.0332 - val_accuracy: 0.9515 - val_loss: 0.1613\n",
            "Epoch 7/10\n",
            "\u001b[1m32583/32583\u001b[0m \u001b[32m━━━━━━━━━━━━━━━━━━━━\u001b[0m\u001b[37m\u001b[0m \u001b[1m371s\u001b[0m 11ms/step - accuracy: 0.9901 - loss: 0.0299 - val_accuracy: 0.9526 - val_loss: 0.1609\n",
            "Epoch 8/10\n",
            "\u001b[1m32583/32583\u001b[0m \u001b[32m━━━━━━━━━━━━━━━━━━━━\u001b[0m\u001b[37m\u001b[0m \u001b[1m377s\u001b[0m 12ms/step - accuracy: 0.9910 - loss: 0.0273 - val_accuracy: 0.9537 - val_loss: 0.1585\n",
            "Epoch 9/10\n",
            "\u001b[1m32583/32583\u001b[0m \u001b[32m━━━━━━━━━━━━━━━━━━━━\u001b[0m\u001b[37m\u001b[0m \u001b[1m382s\u001b[0m 12ms/step - accuracy: 0.9916 - loss: 0.0257 - val_accuracy: 0.9543 - val_loss: 0.1589\n",
            "Epoch 10/10\n",
            "\u001b[1m32583/32583\u001b[0m \u001b[32m━━━━━━━━━━━━━━━━━━━━\u001b[0m\u001b[37m\u001b[0m \u001b[1m447s\u001b[0m 12ms/step - accuracy: 0.9920 - loss: 0.0243 - val_accuracy: 0.9550 - val_loss: 0.1573\n"
          ]
        },
        {
          "output_type": "execute_result",
          "data": {
            "text/plain": [
              "<keras.src.callbacks.history.History at 0x7ca269bb9480>"
            ]
          },
          "metadata": {},
          "execution_count": 12
        }
      ],
      "source": [
        "# Training phase\n",
        "model.fit([user_train, item_train], y_train,\n",
        "          epochs=10,\n",
        "          batch_size=32,\n",
        "          validation_split=0.2)"
      ]
    },
    {
      "cell_type": "markdown",
      "source": [
        "# Evaluation"
      ],
      "metadata": {
        "id": "1oCncOBckYXN"
      }
    },
    {
      "cell_type": "code",
      "execution_count": null,
      "metadata": {
        "id": "uQE7dJmP_ISi",
        "colab": {
          "base_uri": "https://localhost:8080/"
        },
        "outputId": "183ba3fd-ad93-4013-c7ab-e5d8f8a71503"
      },
      "outputs": [
        {
          "output_type": "stream",
          "name": "stdout",
          "text": [
            "\u001b[1m10182/10182\u001b[0m \u001b[32m━━━━━━━━━━━━━━━━━━━━\u001b[0m\u001b[37m\u001b[0m \u001b[1m17s\u001b[0m 2ms/step\n",
            "Precision: 0.9701\n",
            "              precision    recall  f1-score   support\n",
            "\n",
            "         0.0       0.94      0.97      0.96    163205\n",
            "         1.0       0.97      0.94      0.95    162617\n",
            "\n",
            "    accuracy                           0.95    325822\n",
            "   macro avg       0.95      0.95      0.95    325822\n",
            "weighted avg       0.95      0.95      0.95    325822\n",
            "\n"
          ]
        }
      ],
      "source": [
        "df['Rating_Class'] = df['Rating'].apply(lambda x: 1 if x in [4, 5] else 0)\n",
        "y_pred_proba = model.predict([user_test, item_test])\n",
        "y_pred = (y_pred_proba >= 0.5).astype(int)\n",
        "\n",
        "precision = precision_score(y_test, y_pred)\n",
        "print(f\"Precision: {precision:.4f}\")\n",
        "print(classification_report(y_test, y_pred))"
      ]
    }
  ],
  "metadata": {
    "colab": {
      "provenance": []
    },
    "kernelspec": {
      "display_name": "Python 3",
      "name": "python3"
    },
    "language_info": {
      "codemirror_mode": {
        "name": "ipython",
        "version": 3
      },
      "file_extension": ".py",
      "mimetype": "text/x-python",
      "name": "python",
      "nbconvert_exporter": "python",
      "pygments_lexer": "ipython3",
      "version": "3.11.5"
    }
  },
  "nbformat": 4,
  "nbformat_minor": 0
}